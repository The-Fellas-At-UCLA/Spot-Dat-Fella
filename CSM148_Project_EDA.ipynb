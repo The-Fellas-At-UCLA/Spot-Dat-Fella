{
 "cells": [
  {
   "cell_type": "markdown",
   "metadata": {
    "id": "QcMMxAgO_X8c"
   },
   "source": [
    "\n",
    "# Setup\n",
    "\n"
   ]
  },
  {
   "cell_type": "code",
   "execution_count": null,
   "metadata": {
    "id": "3bvoIdo1MAsJ"
   },
   "outputs": [],
   "source": [
    "import pandas as pd\n",
    "import numpy as np\n",
    "import plotly.express as px\n",
    "import matplotlib.pyplot as plt\n",
    "\n",
    "pd.set_option('display.max_columns', None)\n",
    "pd.options.mode.copy_on_write = True\n",
    "\n",
    "# Using the URL for the file\n",
    "spotify_original = pd.read_csv(\"spotify_data\\dataset.csv\")\n",
    "\n",
    "spotify_original_reshape = spotify_original.iloc[:,1:]\n",
    "#hello"
   ]
  },
  {
   "cell_type": "markdown",
   "metadata": {
    "id": "ex-ehlXvYZbH"
   },
   "source": [
    "# Data Cleaning\n",
    "\n",
    "\n",
    "*   Todo 1\n",
    "*   Todo 2\n",
    "\n"
   ]
  },
  {
   "cell_type": "code",
   "execution_count": null,
   "metadata": {
    "colab": {
     "base_uri": "https://localhost:8080/",
     "height": 1000
    },
    "executionInfo": {
     "elapsed": 163,
     "status": "ok",
     "timestamp": 1728671738991,
     "user": {
      "displayName": "PAUL CANO",
      "userId": "16231630220263022191"
     },
     "user_tz": 420
    },
    "id": "YqYMe6nK0WLg",
    "outputId": "61c9b59c-88c3-406d-cad7-b75f45b5b948"
   },
   "outputs": [],
   "source": [
    "#spotify_original_reshape.head(20)\n",
    "#spotify_original.shape\n",
    "spotify_original_reshape\n",
    "\n",
    "\n"
   ]
  },
  {
   "cell_type": "code",
   "execution_count": null,
   "metadata": {
    "colab": {
     "base_uri": "https://localhost:8080/",
     "height": 207
    },
    "executionInfo": {
     "elapsed": 167,
     "status": "ok",
     "timestamp": 1728672778508,
     "user": {
      "displayName": "PAUL CANO",
      "userId": "16231630220263022191"
     },
     "user_tz": 420
    },
    "id": "2k0uIm_Y7R5m",
    "outputId": "2fb8b216-1c1d-48c6-ddce-c4d7e957d668"
   },
   "outputs": [],
   "source": [
    "spotify_original_reshape['track_name'].describe()"
   ]
  },
  {
   "cell_type": "code",
   "execution_count": null,
   "metadata": {
    "colab": {
     "base_uri": "https://localhost:8080/",
     "height": 331
    },
    "executionInfo": {
     "elapsed": 200,
     "status": "ok",
     "timestamp": 1728672723942,
     "user": {
      "displayName": "PAUL CANO",
      "userId": "16231630220263022191"
     },
     "user_tz": 420
    },
    "id": "FaIOFCNvMA69",
    "outputId": "c7125beb-7a89-493e-fb70-1388ea3183e9"
   },
   "outputs": [],
   "source": [
    "spotify_original_reshape['popularity'].describe()"
   ]
  },
  {
   "cell_type": "code",
   "execution_count": null,
   "metadata": {
    "colab": {
     "base_uri": "https://localhost:8080/",
     "height": 207
    },
    "executionInfo": {
     "elapsed": 158,
     "status": "ok",
     "timestamp": 1728672848289,
     "user": {
      "displayName": "PAUL CANO",
      "userId": "16231630220263022191"
     },
     "user_tz": 420
    },
    "id": "QRHg7rmTMBD_",
    "outputId": "6be119ba-1434-4067-cc04-74cbc14d6795"
   },
   "outputs": [],
   "source": [
    "spotify_original_reshape['track_genre'].describe()"
   ]
  },
  {
   "cell_type": "code",
   "execution_count": null,
   "metadata": {
    "colab": {
     "base_uri": "https://localhost:8080/"
    },
    "executionInfo": {
     "elapsed": 525,
     "status": "ok",
     "timestamp": 1728675288832,
     "user": {
      "displayName": "PAUL CANO",
      "userId": "16231630220263022191"
     },
     "user_tz": 420
    },
    "id": "UGZ8pMoLExvK",
    "outputId": "2189e617-9f20-4833-83c4-74f23e43a8f7"
   },
   "outputs": [],
   "source": [
    "missing_track = spotify_original_reshape[spotify_original_reshape['track_id'] == '1kR4gIb7nGxHPI3D2ifs59']\n",
    "print(missing_track)"
   ]
  },
  {
   "cell_type": "code",
   "execution_count": null,
   "metadata": {
    "colab": {
     "base_uri": "https://localhost:8080/"
    },
    "executionInfo": {
     "elapsed": 297,
     "status": "ok",
     "timestamp": 1728755806807,
     "user": {
      "displayName": "SHAFEE KHAN",
      "userId": "10219242836598942056"
     },
     "user_tz": 420
    },
    "id": "yBslr9RFK4D4",
    "outputId": "b290b10a-6464-41b1-ab51-fe28ebd93161"
   },
   "outputs": [],
   "source": [
    "# Cleaning rows with missing information\n",
    "missing_data_rows = spotify_original_reshape[spotify_original_reshape.isnull().any(axis=1)]\n",
    "\n",
    "missing_data_rows\n",
    "\n",
    "spotify_original_reshape_drop = spotify_original_reshape.dropna()\n",
    "\n",
    "print(spotify_original_reshape.shape)\n",
    "print(spotify_original_reshape_drop.shape)"
   ]
  },
  {
   "cell_type": "code",
   "execution_count": null,
   "metadata": {
    "colab": {
     "base_uri": "https://localhost:8080/"
    },
    "executionInfo": {
     "elapsed": 221,
     "status": "ok",
     "timestamp": 1728755928926,
     "user": {
      "displayName": "SHAFEE KHAN",
      "userId": "10219242836598942056"
     },
     "user_tz": 420
    },
    "id": "2xASmZeljbVN",
    "outputId": "3340b028-92e1-4ef3-b247-63957fa81263"
   },
   "outputs": [],
   "source": [
    "#clean track_name and artists columns by stripping spaces and converting to lowercase\n",
    "spotify_original_reshape_drop['track_name_clean'] = spotify_original_reshape_drop['track_name'].str.strip().str.lower()\n",
    "spotify_original_reshape_drop['artists_clean'] = spotify_original_reshape_drop['artists'].str.strip().str.lower()\n",
    "\n",
    "#priority list for genres to handle duplicates\n",
    "genre_priority = ['pop', 'rock', 'hip hop', 'rap', 'reggaeton', 'latin', 'electronic', 'r&b', 'reggae', 'dance', 'classical']\n",
    "spotify_original_reshape_drop['genre_priority'] = spotify_original_reshape_drop['track_genre'].apply(lambda x: genre_priority.index(x) if x in genre_priority else len(genre_priority))\n",
    "\n",
    "#sort the dataset by track_name, artists, genre priority, popularity, and duration\n",
    "spotify_data_sorted = spotify_original_reshape_drop.sort_values(by=['track_name_clean', 'artists_clean', 'genre_priority', 'popularity', 'duration_ms'],\n",
    "                                                                ascending=[True, True, True, True, False])\n",
    "\n",
    "#remove duplicates\n",
    "spotify_cleaned = spotify_data_sorted.drop_duplicates(subset=['track_name_clean', 'artists_clean'], keep='first')\n",
    "\n",
    "# checking size\n",
    "print(f\"Shape of the dataset before cleaning: {spotify_original_reshape_drop.shape}\")\n",
    "print(f\"Shape of the dataset after cleaning: {spotify_cleaned.shape}\")\n",
    "\n",
    "# removing extra columns added\n",
    "spotify_cleaned_final = spotify_cleaned.drop(columns=['track_name_clean', 'artists_clean', 'genre_priority'])\n",
    "\n",
    "# Fcheck size again\n",
    "print(f\"Shape of the dataset after removing extra columns: {spotify_cleaned_final.shape}\")\n",
    "\n",
    "\n",
    "spotify_cleaned_final\n"
   ]
  },
  {
   "cell_type": "markdown",
   "metadata": {
    "id": "4WK1C3rzANxG"
   },
   "source": [
    "# Exploratory Data Analysis\n",
    "\n",
    "\n",
    "*   Todo 1\n",
    "*   Todo 2\n",
    "\n"
   ]
  },
  {
   "cell_type": "code",
   "execution_count": null,
   "metadata": {
    "colab": {
     "base_uri": "https://localhost:8080/",
     "height": 447
    },
    "executionInfo": {
     "elapsed": 775,
     "status": "ok",
     "timestamp": 1728672579553,
     "user": {
      "displayName": "PAUL CANO",
      "userId": "16231630220263022191"
     },
     "user_tz": 420
    },
    "id": "aca4HVPZ543-",
    "outputId": "3fd4abdc-6ebb-4947-e72a-1ec5b6d4810b"
   },
   "outputs": [],
   "source": [
    "spotify_original_reshape['liveness'].hist(bins = 30, alpha = 0.5, color='blue')"
   ]
  },
  {
   "cell_type": "code",
   "execution_count": null,
   "metadata": {
    "colab": {
     "base_uri": "https://localhost:8080/",
     "height": 489
    },
    "executionInfo": {
     "elapsed": 758,
     "status": "ok",
     "timestamp": 1728675072745,
     "user": {
      "displayName": "PAUL CANO",
      "userId": "16231630220263022191"
     },
     "user_tz": 420
    },
    "id": "SLHOJ7WGB0Gb",
    "outputId": "536e1583-d161-46a2-944a-f6e979574ce4"
   },
   "outputs": [],
   "source": [
    "\"Visualizing correlation between features\"\n",
    "\n",
    "plt.scatter(spotify_original_reshape['danceability'], spotify_original_reshape['popularity'], s = 0.1)\n",
    "plt.xlabel('Danceability')\n",
    "plt.ylabel('Popularity')\n",
    "plt.title('Danceability vs Popularity')"
   ]
  },
  {
   "cell_type": "code",
   "execution_count": null,
   "metadata": {
    "colab": {
     "base_uri": "https://localhost:8080/",
     "height": 489
    },
    "executionInfo": {
     "elapsed": 802,
     "status": "ok",
     "timestamp": 1728675405574,
     "user": {
      "displayName": "PAUL CANO",
      "userId": "16231630220263022191"
     },
     "user_tz": 420
    },
    "id": "swljig2WFNDb",
    "outputId": "fbd5a8c4-6b30-4529-9b6b-328c3fd800da"
   },
   "outputs": [],
   "source": [
    "\"Visualizing correlation between features\"\n",
    "plt.scatter(spotify_original_reshape['energy'], spotify_original_reshape['popularity'], s = 0.1)\n",
    "plt.xlabel('Energy')\n",
    "plt.ylabel('Popularity')\n",
    "plt.title('Energy vs Popularity')"
   ]
  },
  {
   "cell_type": "code",
   "execution_count": null,
   "metadata": {
    "colab": {
     "base_uri": "https://localhost:8080/"
    },
    "executionInfo": {
     "elapsed": 561,
     "status": "ok",
     "timestamp": 1728676132293,
     "user": {
      "displayName": "PAUL CANO",
      "userId": "16231630220263022191"
     },
     "user_tz": 420
    },
    "id": "5eKIrGgEF2Zh",
    "outputId": "dc9dbabb-e937-488e-d941-9a7358cab4fe"
   },
   "outputs": [],
   "source": [
    "#Finding the Correlation Between Popularity and other features\n",
    "\n",
    "for features in spotify_original_reshape.select_dtypes(include=[np.number]).columns:\n",
    "  print(features, 'vs. Popularity Correlation:', np.corrcoef(spotify_original_reshape['popularity'], spotify_original_reshape[features])[0,1])\n"
   ]
  },
  {
   "cell_type": "code",
   "execution_count": null,
   "metadata": {
    "colab": {
     "base_uri": "https://localhost:8080/"
    },
    "executionInfo": {
     "elapsed": 153,
     "status": "ok",
     "timestamp": 1728676225815,
     "user": {
      "displayName": "PAUL CANO",
      "userId": "16231630220263022191"
     },
     "user_tz": 420
    },
    "id": "XT_JFtOLIT3h",
    "outputId": "385e3a7d-17c1-4750-f50c-93cb12fead91"
   },
   "outputs": [],
   "source": [
    "#Finding the Correlation Between Tempo and other features\n",
    "\n",
    "for features in spotify_original_reshape.select_dtypes(include=[np.number]).columns:\n",
    "  print(features, 'vs. Tempo Correlation:', np.corrcoef(spotify_original_reshape['tempo'], spotify_original_reshape[features])[0,1])\n"
   ]
  }
 ],
 "metadata": {
  "colab": {
   "collapsed_sections": [
    "4WK1C3rzANxG"
   ],
   "provenance": []
  },
  "kernelspec": {
   "display_name": "base",
   "language": "python",
   "name": "python3"
  },
  "language_info": {
   "codemirror_mode": {
    "name": "ipython",
    "version": 3
   },
   "file_extension": ".py",
   "mimetype": "text/x-python",
   "name": "python",
   "nbconvert_exporter": "python",
   "pygments_lexer": "ipython3",
   "version": "3.10.12"
  }
 },
 "nbformat": 4,
 "nbformat_minor": 0
}
